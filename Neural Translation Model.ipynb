{
 "cells": [
  {
   "cell_type": "code",
   "execution_count": null,
   "metadata": {
    "id": "2VyTvxPN1iZn"
   },
   "outputs": [],
   "source": [
    "import tensorflow as tf\n",
    "import tensorflow_hub as hub\n",
    "import unicodedata\n",
    "import re"
   ]
  },
  {
   "cell_type": "code",
   "execution_count": null,
   "metadata": {
    "colab": {
     "base_uri": "https://localhost:8080/"
    },
    "id": "Nw99tEEQ3bKL",
    "outputId": "cf98ed48-832b-47bb-97c8-8f2c03bb86f5"
   },
   "outputs": [
    {
     "name": "stdout",
     "output_type": "stream",
     "text": [
      "Mounted at /content/gdrive\n"
     ]
    }
   ],
   "source": [
    "# Run this cell to connect to your Drive folder\n",
    "\n",
    "from google.colab import drive\n",
    "drive.mount('/content/gdrive')"
   ]
  },
  {
   "cell_type": "code",
   "execution_count": null,
   "metadata": {
    "id": "o8PetPpw1iZu"
   },
   "outputs": [],
   "source": [
    "# Run this cell to load the dataset\n",
    "\n",
    "NUM_EXAMPLES = 20000\n",
    "data_examples = []\n",
    "with open('gdrive/MyDrive/Colab Notebooks/data/deu.txt', 'r', encoding='utf8') as f:\n",
    "    for line in f.readlines():\n",
    "        if len(data_examples) < NUM_EXAMPLES:\n",
    "            data_examples.append(line)\n",
    "        else:\n",
    "            break"
   ]
  },
  {
   "cell_type": "code",
   "execution_count": null,
   "metadata": {
    "id": "JumLjJ631iZy"
   },
   "outputs": [],
   "source": [
    "# These functions preprocess English and German sentences\n",
    "\n",
    "def unicode_to_ascii(s):\n",
    "    return ''.join(c for c in unicodedata.normalize('NFD', s) if unicodedata.category(c) != 'Mn')\n",
    "\n",
    "def preprocess_sentence(sentence):\n",
    "    sentence = sentence.lower().strip()\n",
    "    sentence = re.sub(r\"ü\", 'ue', sentence)\n",
    "    sentence = re.sub(r\"ä\", 'ae', sentence)\n",
    "    sentence = re.sub(r\"ö\", 'oe', sentence)\n",
    "    sentence = re.sub(r'ß', 'ss', sentence)\n",
    "    \n",
    "    sentence = unicode_to_ascii(sentence)\n",
    "    sentence = re.sub(r\"([?.!,])\", r\" \\1 \", sentence)\n",
    "    sentence = re.sub(r\"[^a-z?.!,']+\", \" \", sentence)\n",
    "    sentence = re.sub(r'[\" \"]+', \" \", sentence)\n",
    "    \n",
    "    return sentence.strip()"
   ]
  },
  {
   "cell_type": "markdown",
   "metadata": {
    "id": "z70nu6_01iZ3"
   },
   "source": [
    "## Text preprocessing"
   ]
  },
  {
   "cell_type": "code",
   "execution_count": null,
   "metadata": {
    "id": "8e6AFqba1ox_"
   },
   "outputs": [],
   "source": [
    "import numpy as np\n",
    "import pandas as pd"
   ]
  },
  {
   "cell_type": "code",
   "execution_count": null,
   "metadata": {
    "id": "vd8L_CJ4g15h"
   },
   "outputs": [],
   "source": [
    "# Creating separate lists for English and German sentences, preprocessing them and adding start and end tokens to German sentences\n",
    "english_sentences = [preprocess_sentence(example.split('\\t')[0]) for example in data_examples]\n",
    "german_sentences = [\" \".join(('<start>', preprocess_sentence(example.split('\\t')[1]), '<end>')) for example in data_examples]"
   ]
  },
  {
   "cell_type": "code",
   "execution_count": null,
   "metadata": {
    "id": "3ehKb-CbuGZx"
   },
   "outputs": [],
   "source": [
    "# Tokenizing the German sentences\n",
    "tokenizer = tf.keras.preprocessing.text.Tokenizer(filters='')\n",
    "tokenizer.fit_on_texts(german_sentences)"
   ]
  },
  {
   "cell_type": "code",
   "execution_count": null,
   "metadata": {
    "colab": {
     "base_uri": "https://localhost:8080/",
     "height": 202
    },
    "id": "ZGTaqt1t1iaI",
    "outputId": "ecf0457f-64b1-42cd-c148-5774cecad382"
   },
   "outputs": [
    {
     "data": {
      "text/html": [
       "<div>\n",
       "<style scoped>\n",
       "    .dataframe tbody tr th:only-of-type {\n",
       "        vertical-align: middle;\n",
       "    }\n",
       "\n",
       "    .dataframe tbody tr th {\n",
       "        vertical-align: top;\n",
       "    }\n",
       "\n",
       "    .dataframe thead th {\n",
       "        text-align: right;\n",
       "    }\n",
       "</style>\n",
       "<table border=\"1\" class=\"dataframe\">\n",
       "  <thead>\n",
       "    <tr style=\"text-align: right;\">\n",
       "      <th></th>\n",
       "      <th>English Sentences</th>\n",
       "      <th>German Sentences</th>\n",
       "      <th>Tokenized German Sequence</th>\n",
       "    </tr>\n",
       "  </thead>\n",
       "  <tbody>\n",
       "    <tr>\n",
       "      <th>1</th>\n",
       "      <td>avoid bad company .</td>\n",
       "      <td>&lt;start&gt; meide schlechten umgang ! &lt;end&gt;</td>\n",
       "      <td>[1, 5423, 5424, 5425, 9, 2]</td>\n",
       "    </tr>\n",
       "    <tr>\n",
       "      <th>2</th>\n",
       "      <td>tom is yelling .</td>\n",
       "      <td>&lt;start&gt; tom schreit . &lt;end&gt;</td>\n",
       "      <td>[1, 5, 811, 3, 2]</td>\n",
       "    </tr>\n",
       "    <tr>\n",
       "      <th>3</th>\n",
       "      <td>tom's impressed .</td>\n",
       "      <td>&lt;start&gt; tom ist beeindruckt . &lt;end&gt;</td>\n",
       "      <td>[1, 5, 6, 774, 3, 2]</td>\n",
       "    </tr>\n",
       "    <tr>\n",
       "      <th>4</th>\n",
       "      <td>i'm lying .</td>\n",
       "      <td>&lt;start&gt; ich luege . &lt;end&gt;</td>\n",
       "      <td>[1, 4, 888, 3, 2]</td>\n",
       "    </tr>\n",
       "    <tr>\n",
       "      <th>5</th>\n",
       "      <td>do we have one ?</td>\n",
       "      <td>&lt;start&gt; haben wir einen ? &lt;end&gt;</td>\n",
       "      <td>[1, 35, 17, 40, 7, 2]</td>\n",
       "    </tr>\n",
       "  </tbody>\n",
       "</table>\n",
       "</div>"
      ],
      "text/plain": [
       "     English Sentences  ...    Tokenized German Sequence\n",
       "1  avoid bad company .  ...  [1, 5423, 5424, 5425, 9, 2]\n",
       "2     tom is yelling .  ...            [1, 5, 811, 3, 2]\n",
       "3    tom's impressed .  ...         [1, 5, 6, 774, 3, 2]\n",
       "4          i'm lying .  ...            [1, 4, 888, 3, 2]\n",
       "5     do we have one ?  ...        [1, 35, 17, 40, 7, 2]\n",
       "\n",
       "[5 rows x 3 columns]"
      ]
     },
     "execution_count": 10,
     "metadata": {
      "tags": []
     },
     "output_type": "execute_result"
    }
   ],
   "source": [
    "inx = np.random.choice(len(german_sentences), 5)\n",
    "german_tokens = tokenizer.texts_to_sequences(german_sentences)\n",
    "df = pd.DataFrame({'English Sentences': np.array(english_sentences)[inx],\n",
    "                   'German Sentences': np.array(german_sentences)[inx],\n",
    "                   'Tokenized German Sequence': np.array(german_tokens, dtype='object')[inx]})\n",
    "df.index = [df.index+1]\n",
    "df"
   ]
  },
  {
   "cell_type": "code",
   "execution_count": null,
   "metadata": {
    "colab": {
     "base_uri": "https://localhost:8080/"
    },
    "id": "fqiO7HuQ1iaL",
    "outputId": "376f4481-ddae-4ad7-ccb3-5d2eb4905861"
   },
   "outputs": [
    {
     "data": {
      "text/plain": [
       "array([[   1,  405,    9,    2,    0,    0,    0,    0,    0,    0,    0,\n",
       "           0,    0,    0],\n",
       "       [   1, 3155,  663,    9,    2,    0,    0,    0,    0,    0,    0,\n",
       "           0,    0,    0],\n",
       "       [   1,  975,    9,    2,    0,    0,    0,    0,    0,    0,    0,\n",
       "           0,    0,    0],\n",
       "       [   1, 3156,    9,    2,    0,    0,    0,    0,    0,    0,    0,\n",
       "           0,    0,    0],\n",
       "       [   1, 3157,    9,    2,    0,    0,    0,    0,    0,    0,    0,\n",
       "           0,    0,    0]], dtype=int32)"
      ]
     },
     "execution_count": 11,
     "metadata": {
      "tags": []
     },
     "output_type": "execute_result"
    }
   ],
   "source": [
    "# Padding the German sentences\n",
    "german_tokens = tf.keras.preprocessing.sequence.pad_sequences(german_tokens, padding='post')\n",
    "german_tokens[:5]"
   ]
  },
  {
   "cell_type": "markdown",
   "metadata": {
    "id": "foL7Ihs21iaP"
   },
   "source": [
    "## Preparing the data"
   ]
  },
  {
   "cell_type": "code",
   "execution_count": null,
   "metadata": {
    "id": "ywZgobCh1iaR"
   },
   "outputs": [],
   "source": [
    "# Loading the embedding module from Tensorflow Hub\n",
    "\n",
    "embedding_layer = hub.KerasLayer(\"https://tfhub.dev/google/tf2-preview/nnlm-en-dim128/1\", \n",
    "                                 output_shape=[128], input_shape=[], dtype=tf.string)"
   ]
  },
  {
   "cell_type": "code",
   "execution_count": null,
   "metadata": {
    "colab": {
     "base_uri": "https://localhost:8080/"
    },
    "id": "TiY8QEDp1iaV",
    "outputId": "d7fd6fd3-f617-4103-8fc9-8adf8adf3468"
   },
   "outputs": [
    {
     "data": {
      "text/plain": [
       "TensorShape([7, 128])"
      ]
     },
     "execution_count": 13,
     "metadata": {
      "tags": []
     },
     "output_type": "execute_result"
    }
   ],
   "source": [
    "embedding_layer(tf.constant([\"these\", \"aren't\", \"the\", \"droids\", \"you're\", \"looking\", \"for\"])).shape"
   ]
  },
  {
   "cell_type": "code",
   "execution_count": null,
   "metadata": {
    "id": "Q-BUJOl_1iaZ"
   },
   "outputs": [],
   "source": [
    "# Creating the training and validation sets\n",
    "from sklearn.model_selection import train_test_split\n",
    "x_train, x_val, y_train, y_val = train_test_split(english_sentences, german_tokens, test_size=0.2, random_state=51)"
   ]
  },
  {
   "cell_type": "code",
   "execution_count": null,
   "metadata": {
    "id": "4w6rM8Bl1iad"
   },
   "outputs": [],
   "source": [
    "# Creating the Dataset object for training and validation sets\n",
    "train_dataset = tf.data.Dataset.from_tensor_slices((x_train, y_train))\n",
    "val_dataset = tf.data.Dataset.from_tensor_slices((x_val, y_val))"
   ]
  },
  {
   "cell_type": "code",
   "execution_count": null,
   "metadata": {
    "id": "D7bn3mRs1iaj"
   },
   "outputs": [],
   "source": [
    "# Splitting the English sentences \n",
    "def map_split_string(english_sentence, german_token):\n",
    "  english_list = tf.strings.split(english_sentence, sep=' ')\n",
    "  return english_list, german_token\n",
    "\n",
    "train_dataset = train_dataset.map(map_split_string)\n",
    "val_dataset = val_dataset.map(map_split_string)"
   ]
  },
  {
   "cell_type": "code",
   "execution_count": null,
   "metadata": {
    "id": "1apVglQTC1XB"
   },
   "outputs": [],
   "source": [
    "# Embedding the English words\n",
    "def map_embed_sequence(english_list, german_token):\n",
    "  embedded_layer = embedding_layer(english_list)\n",
    "  return embedded_layer, german_token\n",
    "\n",
    "train_dataset = train_dataset.map(map_embed_sequence)\n",
    "val_dataset = val_dataset.map(map_embed_sequence)"
   ]
  },
  {
   "cell_type": "code",
   "execution_count": null,
   "metadata": {
    "id": "q0Fdso381ian"
   },
   "outputs": [],
   "source": [
    "# Filtering English sentences with length greater than or equal to 13\n",
    "def filter_sentences(embedded_layer, german_token):\n",
    "  mask = tf.shape(embedded_layer)[0] < 13\n",
    "  return mask\n",
    "\n",
    "train_dataset = train_dataset.filter(filter_sentences)\n",
    "val_dataset = val_dataset.filter(filter_sentences)"
   ]
  },
  {
   "cell_type": "code",
   "execution_count": null,
   "metadata": {
    "id": "bGqlxuqZ1ias"
   },
   "outputs": [],
   "source": [
    "# Padding the embedding layers\n",
    "def map_padding(embedded_layer, german_token):\n",
    "  embedded_layer = tf.pad(embedded_layer, [[13-tf.shape(embedded_layer)[0], 0], [0, 0]])\n",
    "  return embedded_layer, german_token\n",
    "\n",
    "train_dataset = train_dataset.map(map_padding)\n",
    "val_dataset = val_dataset.map(map_padding)"
   ]
  },
  {
   "cell_type": "code",
   "execution_count": null,
   "metadata": {
    "id": "MdqSXEoX1iav"
   },
   "outputs": [],
   "source": [
    "# Creating the batches for train and validation datasets\n",
    "train_dataset = train_dataset.batch(16)\n",
    "val_dataset = val_dataset.batch(16)"
   ]
  },
  {
   "cell_type": "code",
   "execution_count": null,
   "metadata": {
    "colab": {
     "base_uri": "https://localhost:8080/"
    },
    "id": "CQKC_E9XoHs3",
    "outputId": "6f6fc89f-36b7-4708-e9cf-80421caf55c6"
   },
   "outputs": [
    {
     "name": "stdout",
     "output_type": "stream",
     "text": [
      "train_dataset: (TensorSpec(shape=(None, None, 128), dtype=tf.float32, name=None), TensorSpec(shape=(None, 14), dtype=tf.int32, name=None))\n",
      "validation_dataset: (TensorSpec(shape=(None, None, 128), dtype=tf.float32, name=None), TensorSpec(shape=(None, 14), dtype=tf.int32, name=None))\n"
     ]
    }
   ],
   "source": [
    "print('train_dataset:', train_dataset.element_spec)\n",
    "print('validation_dataset:', val_dataset.element_spec)"
   ]
  },
  {
   "cell_type": "code",
   "execution_count": null,
   "metadata": {
    "colab": {
     "base_uri": "https://localhost:8080/"
    },
    "id": "6gi2u5OGoH2c",
    "outputId": "d70e904f-4245-4f77-e719-a17db5f8af95"
   },
   "outputs": [
    {
     "data": {
      "text/plain": [
       "TensorShape([16, 13, 128])"
      ]
     },
     "execution_count": 22,
     "metadata": {
      "tags": []
     },
     "output_type": "execute_result"
    }
   ],
   "source": [
    "english_embeddings, _ = next(iter(train_dataset.take(1)))\n",
    "english_embeddings.shape"
   ]
  },
  {
   "cell_type": "code",
   "execution_count": null,
   "metadata": {
    "colab": {
     "base_uri": "https://localhost:8080/"
    },
    "id": "RRGxJYRDn9Mu",
    "outputId": "93f8b06a-a68a-4334-a5e7-df73b574586e"
   },
   "outputs": [
    {
     "data": {
      "text/plain": [
       "<tf.Tensor: shape=(16, 14), dtype=int32, numpy=\n",
       "array([[   1,    8,  711,   25,  132,    4,  669,  277,    3,    2,    0,\n",
       "           0,    0,    0],\n",
       "       [   1,   14,   66,   40,  863,   35,    3,    2,    0,    0,    0,\n",
       "           0,    0,    0],\n",
       "       [   1,    5,  636,   10,    3,    2,    0,    0,    0,    0,    0,\n",
       "           0,    0,    0],\n",
       "       [   1,   11,    6,   19, 1369,    3,    2,    0,    0,    0,    0,\n",
       "           0,    0,    0],\n",
       "       [   1,  123,  248,   10,   20,  260,    3,    2,    0,    0,    0,\n",
       "           0,    0,    0],\n",
       "       [   1,   38,    6,   11,   12,  361,    9,    2,    0,    0,    0,\n",
       "           0,    0,    0],\n",
       "       [   1,  673,   21,   40,  538,  259,    3,    2,    0,    0,    0,\n",
       "           0,    0,    0],\n",
       "       [   1,   43,   16,   57,   88,    7,    2,    0,    0,    0,    0,\n",
       "           0,    0,    0],\n",
       "       [   1,   11,    6,   19, 2610,    3,    2,    0,    0,    0,    0,\n",
       "           0,    0,    0],\n",
       "       [   1,    5,  234,   34, 1448,    3,    2,    0,    0,    0,    0,\n",
       "           0,    0,    0],\n",
       "       [   1,    5,   16,  224,    3,    2,    0,    0,    0,    0,    0,\n",
       "           0,    0,    0],\n",
       "       [   1,    4,   15,   12,  106, 5735,    3,    2,    0,    0,    0,\n",
       "           0,    0,    0],\n",
       "       [   1,    4,   18, 4328,    3,    2,    0,    0,    0,    0,    0,\n",
       "           0,    0,    0],\n",
       "       [   1,   74,   25,   79,   55,    3,    2,    0,    0,    0,    0,\n",
       "           0,    0,    0],\n",
       "       [   1, 1021,    8,   21,   11,    9,    2,    0,    0,    0,    0,\n",
       "           0,    0,    0],\n",
       "       [   1,   17, 1923,   19, 1704,    3,    2,    0,    0,    0,    0,\n",
       "           0,    0,    0]], dtype=int32)>"
      ]
     },
     "execution_count": 26,
     "metadata": {
      "tags": []
     },
     "output_type": "execute_result"
    }
   ],
   "source": [
    "_, german_tokens = next(iter(val_dataset.take(1)))\n",
    "german_tokens"
   ]
  },
  {
   "cell_type": "markdown",
   "metadata": {
    "id": "isIYhjq01iay"
   },
   "source": [
    "## Creating the custom layer"
   ]
  },
  {
   "cell_type": "code",
   "execution_count": null,
   "metadata": {
    "id": "yg9hjZz11ia0"
   },
   "outputs": [],
   "source": [
    "from tensorflow.keras.layers import Layer, Concatenate"
   ]
  },
  {
   "cell_type": "code",
   "execution_count": null,
   "metadata": {
    "id": "c0bt6CfrrF4z"
   },
   "outputs": [],
   "source": [
    "# Adding a learned embedded end token for each training example\n",
    "embedding_dim = 128\n",
    "class AddEndToken(Layer):\n",
    "\n",
    "  def __init__(self, **kwargs):\n",
    "    super(AddEndToken, self).__init__(**kwargs)\n",
    "    self.end_token = tf.Variable(initial_value=tf.ones(shape=(1, embedding_dim), dtype=tf.float32), trainable=True)\n",
    "\n",
    "  def call(self, inputs):\n",
    "    learned_embeddings = tf.tile(self.end_token, [tf.shape(inputs)[0], 1])\n",
    "    learned_embeddings = tf.expand_dims(learned_embeddings, axis=1)\n",
    "    return Concatenate(axis=1)([inputs, learned_embeddings])"
   ]
  },
  {
   "cell_type": "code",
   "execution_count": null,
   "metadata": {
    "colab": {
     "base_uri": "https://localhost:8080/"
    },
    "id": "wRrtZz0orFnY",
    "outputId": "64fff575-f163-449e-c318-622a2e3de1d9"
   },
   "outputs": [
    {
     "data": {
      "text/plain": [
       "TensorShape([16, 13, 128])"
      ]
     },
     "execution_count": 41,
     "metadata": {
      "tags": []
     },
     "output_type": "execute_result"
    }
   ],
   "source": [
    "# Shape before adding the learned embedded layer\n",
    "english_embeddings, _ = next(iter(train_dataset.take(1)))\n",
    "english_embeddings.shape"
   ]
  },
  {
   "cell_type": "code",
   "execution_count": null,
   "metadata": {
    "colab": {
     "base_uri": "https://localhost:8080/"
    },
    "id": "ebjK8PmL1ia6",
    "outputId": "3f556210-6d19-4d3a-9d0e-42a3427cc4cb"
   },
   "outputs": [
    {
     "data": {
      "text/plain": [
       "TensorShape([16, 14, 128])"
      ]
     },
     "execution_count": 60,
     "metadata": {
      "tags": []
     },
     "output_type": "execute_result"
    }
   ],
   "source": [
    "# Shape after adding the learned embedded layer\n",
    "my_layer = AddEndToken()\n",
    "english_embeddings, _ = next(iter(train_dataset.take(1)))\n",
    "my_layer(english_embeddings).shape"
   ]
  },
  {
   "cell_type": "markdown",
   "metadata": {
    "id": "OAd3i4_y1ia-"
   },
   "source": [
    "## Building the encoder network"
   ]
  },
  {
   "cell_type": "code",
   "execution_count": null,
   "metadata": {
    "id": "6R2LqbfV1ia_"
   },
   "outputs": [],
   "source": [
    "from tensorflow.keras.models import Model\n",
    "from tensorflow.keras.layers import Input, Masking, LSTM"
   ]
  },
  {
   "cell_type": "code",
   "execution_count": null,
   "metadata": {
    "id": "e5XW6NxL1ibC"
   },
   "outputs": [],
   "source": [
    "# Creating the Encoder Network\n",
    "lstm_units = 512\n",
    "embedding_dims = 128\n",
    "\n",
    "inputs = Input(shape=(None, embedding_dims))\n",
    "h = AddEndToken()(inputs)\n",
    "h = Masking()(h)\n",
    "_, hidden_state, cell_state = LSTM(lstm_units, return_state=True)(h)\n",
    "encoder_model = Model(inputs=inputs, outputs=[hidden_state, cell_state])"
   ]
  },
  {
   "cell_type": "code",
   "execution_count": null,
   "metadata": {
    "colab": {
     "base_uri": "https://localhost:8080/"
    },
    "id": "jEk9ikVh1ibL",
    "outputId": "65c13488-50be-4ba3-f4bb-6df0501b538e"
   },
   "outputs": [
    {
     "name": "stdout",
     "output_type": "stream",
     "text": [
      "Hidden State shape: (16, 512)\n",
      "Cell State shape: (16, 512)\n"
     ]
    }
   ],
   "source": [
    "# Getting the hidden and cell states\n",
    "english_embeddings, _ = next(iter(train_dataset.take(1)))\n",
    "hidden_state, cell_state = encoder_model(english_embeddings)\n",
    "print('Hidden State shape:', hidden_state.shape)\n",
    "print('Cell State shape:', cell_state.shape)"
   ]
  },
  {
   "cell_type": "code",
   "execution_count": null,
   "metadata": {
    "colab": {
     "base_uri": "https://localhost:8080/"
    },
    "id": "kBnQP494wZgv",
    "outputId": "bb43f9fb-563b-4aeb-fa05-0c5a5fe85748"
   },
   "outputs": [
    {
     "name": "stdout",
     "output_type": "stream",
     "text": [
      "Model: \"model_1\"\n",
      "_________________________________________________________________\n",
      "Layer (type)                 Output Shape              Param #   \n",
      "=================================================================\n",
      "input_3 (InputLayer)         [(None, 13, 128)]         0         \n",
      "_________________________________________________________________\n",
      "add_end_token_11 (AddEndToke (None, 14, 128)           128       \n",
      "_________________________________________________________________\n",
      "masking_5 (Masking)          (None, 14, 128)           0         \n",
      "_________________________________________________________________\n",
      "lstm_4 (LSTM)                [(None, 512), (None, 512) 1312768   \n",
      "=================================================================\n",
      "Total params: 1,312,896\n",
      "Trainable params: 1,312,896\n",
      "Non-trainable params: 0\n",
      "_________________________________________________________________\n"
     ]
    }
   ],
   "source": [
    "encoder_model.summary()"
   ]
  },
  {
   "cell_type": "markdown",
   "metadata": {
    "id": "KvkzpCeZ1ibR"
   },
   "source": [
    "## Building the decoder network"
   ]
  },
  {
   "cell_type": "code",
   "execution_count": null,
   "metadata": {
    "id": "l50qhnXD1ibT"
   },
   "outputs": [],
   "source": [
    "from tensorflow.keras.models import Model\n",
    "from tensorflow.keras.layers import Embedding, LSTM, Dense"
   ]
  },
  {
   "cell_type": "code",
   "execution_count": null,
   "metadata": {
    "id": "vG5CRIXV1ibi"
   },
   "outputs": [],
   "source": [
    "# Creating the Decoder Network\n",
    "vocab_size = len(tokenizer.word_index)+1\n",
    "embedding_dim = 128\n",
    "lstm_units = 512\n",
    "\n",
    "class DecoderNetwork(Model):\n",
    "\n",
    "  def __init__(self, **kwargs):\n",
    "    super(DecoderNetwork, self).__init__(**kwargs)\n",
    "    self.embedding = Embedding(vocab_size, embedding_dim, mask_zero=True)\n",
    "    self.lstm = LSTM(lstm_units, return_state=True, return_sequences=True)\n",
    "    self.dense = Dense(vocab_size)\n",
    "\n",
    "  def call(self, inputs, hidden_state=None, cell_state=None):\n",
    "    h = self.embedding(inputs)\n",
    "    h, final_hidden_state, final_cell_state = self.lstm(h, initial_state=[hidden_state, cell_state])\n",
    "    outputs = self.dense(h)\n",
    "    return outputs, final_hidden_state, final_cell_state"
   ]
  },
  {
   "cell_type": "code",
   "execution_count": null,
   "metadata": {
    "colab": {
     "base_uri": "https://localhost:8080/"
    },
    "id": "SvqqT_ET1ibl",
    "outputId": "bf2da6b7-c924-4412-be29-951e85e9260e"
   },
   "outputs": [
    {
     "name": "stdout",
     "output_type": "stream",
     "text": [
      "Outputs shape: (16, 14, 5744)\n",
      "Hidden State shape: (16, 512)\n",
      "Cell State shape: (16, 512)\n"
     ]
    }
   ],
   "source": [
    "english_embeddings, german_tokens = next(iter(train_dataset.take(1)))\n",
    "hidden_state, cell_state = encoder_model(english_embeddings)\n",
    "decoder_model = DecoderNetwork()\n",
    "outputs, final_hidden_state, final_cell_state = decoder_model(german_tokens, hidden_state, cell_state)\n",
    "print('Outputs shape:', outputs.shape)\n",
    "print('Hidden State shape:', final_hidden_state.shape)\n",
    "print('Cell State shape:', final_cell_state.shape)"
   ]
  },
  {
   "cell_type": "code",
   "execution_count": null,
   "metadata": {
    "colab": {
     "base_uri": "https://localhost:8080/"
    },
    "id": "l4elllI0xF2E",
    "outputId": "a1a98581-c8f4-4d44-94db-611365ce634b"
   },
   "outputs": [
    {
     "name": "stdout",
     "output_type": "stream",
     "text": [
      "Model: \"decoder_network\"\n",
      "_________________________________________________________________\n",
      "Layer (type)                 Output Shape              Param #   \n",
      "=================================================================\n",
      "embedding (Embedding)        multiple                  735232    \n",
      "_________________________________________________________________\n",
      "lstm_5 (LSTM)                multiple                  1312768   \n",
      "_________________________________________________________________\n",
      "dense (Dense)                multiple                  2946672   \n",
      "=================================================================\n",
      "Total params: 4,994,672\n",
      "Trainable params: 4,994,672\n",
      "Non-trainable params: 0\n",
      "_________________________________________________________________\n"
     ]
    }
   ],
   "source": [
    "decoder_model.summary()"
   ]
  },
  {
   "cell_type": "markdown",
   "metadata": {
    "id": "pST9XGJ81ibo"
   },
   "source": [
    "## Making a custom training loop"
   ]
  },
  {
   "cell_type": "code",
   "execution_count": null,
   "metadata": {
    "id": "7hJHbWqs1ibr"
   },
   "outputs": [],
   "source": [
    "# Getting the German inputs and outputs \n",
    "def get_german_input_output(german_batch):\n",
    "  end_token = tokenizer.word_index['<end>']\n",
    "  x = tf.zeros(shape=tf.shape(german_batch), dtype=tf.int32)\n",
    "  y = german_batch\n",
    "  german_inputs = tf.where(tf.equal(german_batch, end_token), x, y)[:, :-1]\n",
    "  german_outputs = german_batch[:, 1:]\n",
    "  return german_inputs, german_outputs"
   ]
  },
  {
   "cell_type": "code",
   "execution_count": null,
   "metadata": {
    "id": "nixvecV-GZ69"
   },
   "outputs": [],
   "source": [
    "# Computing the loss and gradients\n",
    "@tf.function\n",
    "def compute(english_inputs, german_inputs, german_outputs, loss_func, variables):\n",
    "  with tf.GradientTape() as tape:\n",
    "    hidden_state, cell_state = encoder_model(english_inputs)\n",
    "    german_preds, _, _ = decoder_model(german_inputs, hidden_state, cell_state)\n",
    "    loss = loss_func(german_outputs, german_preds)\n",
    "    grads = tape.gradient(loss, variables)\n",
    "  return loss, grads"
   ]
  },
  {
   "cell_type": "code",
   "execution_count": null,
   "metadata": {
    "id": "MVWOYJ3l1ib1"
   },
   "outputs": [],
   "source": [
    "# Creating the final model\n",
    "def translation_model(num_epochs, train_dataset, compute, val_dataset, val_steps):\n",
    "  loss_func = tf.keras.losses.SparseCategoricalCrossentropy(from_logits=True)\n",
    "  optimizer = tf.keras.optimizers.Adam()\n",
    "  variables = encoder_model.trainable_variables + decoder_model.trainable_variables \n",
    "\n",
    "  train_epoch_loss = []\n",
    "  val_epoch_loss = []\n",
    "\n",
    "  for epoch in range(num_epochs):\n",
    "    train_loss_avg = tf.keras.metrics.Mean()\n",
    "    val_loss_avg = tf.keras.metrics.Mean()\n",
    "\n",
    "    for english_inputs, german_batch in train_dataset:\n",
    "      german_inputs, german_outputs = get_german_input_output(german_batch)\n",
    "      train_loss, grads = compute(english_inputs, german_inputs, german_outputs, loss_func, variables)\n",
    "      optimizer.apply_gradients(zip(grads, variables))\n",
    "      train_loss_avg(train_loss)\n",
    "\n",
    "    for english_inputs, german_batch in val_dataset.take(val_steps):\n",
    "      german_inputs, german_outputs = get_german_input_output(german_batch)\n",
    "      hidden_state, cell_state = encoder_model(english_inputs)\n",
    "      german_preds, _, _ = decoder_model(german_inputs, hidden_state, cell_state)\n",
    "      val_loss = loss_func(german_outputs, german_preds)\n",
    "      val_loss_avg(val_loss)\n",
    "\n",
    "    train_epoch_loss.append(train_loss_avg.result())\n",
    "    val_epoch_loss.append(val_loss_avg.result())\n",
    "\n",
    "    print('Epoch {:02d}, Loss {:.03f}, Val Loss {:.03f}'.format(epoch, train_loss_avg.result(), val_loss_avg.result()))\n",
    "\n",
    "  return train_epoch_loss, val_epoch_loss"
   ]
  },
  {
   "cell_type": "code",
   "execution_count": null,
   "metadata": {
    "colab": {
     "base_uri": "https://localhost:8080/"
    },
    "id": "kWhOiVS-V2Ko",
    "outputId": "02c1c293-e4b5-4dd0-a376-168f27b2f3d0"
   },
   "outputs": [
    {
     "name": "stdout",
     "output_type": "stream",
     "text": [
      "Epoch 00, Loss 5.977, Val Loss 5.307\n",
      "Epoch 01, Loss 4.742, Val Loss 4.361\n",
      "Epoch 02, Loss 3.744, Val Loss 3.516\n",
      "Epoch 03, Loss 2.818, Val Loss 2.751\n",
      "Epoch 04, Loss 1.976, Val Loss 2.084\n",
      "Epoch 05, Loss 1.286, Val Loss 1.605\n",
      "Epoch 06, Loss 0.820, Val Loss 1.329\n",
      "Epoch 07, Loss 0.550, Val Loss 1.196\n",
      "Epoch 08, Loss 0.394, Val Loss 1.133\n",
      "Epoch 09, Loss 0.297, Val Loss 1.118\n"
     ]
    }
   ],
   "source": [
    "# Training the model\n",
    "train_epoch_loss, val_epoch_loss = translation_model(10, train_dataset, compute, val_dataset, 100)"
   ]
  },
  {
   "cell_type": "code",
   "execution_count": null,
   "metadata": {
    "colab": {
     "base_uri": "https://localhost:8080/",
     "height": 421
    },
    "id": "eHq4UT3PV2CQ",
    "outputId": "09eafc70-5007-48c9-83ec-9a872aaea691"
   },
   "outputs": [
    {
     "data": {
      "text/plain": [
       "<matplotlib.legend.Legend at 0x7f0f73925090>"
      ]
     },
     "execution_count": 73,
     "metadata": {
      "tags": []
     },
     "output_type": "execute_result"
    },
    {
     "data": {
      "image/png": "[encoded data removed]",
      "text/plain": [
       "<Figure size 1080x432 with 1 Axes>"
      ]
     },
     "metadata": {
      "needs_background": "light",
      "tags": []
     },
     "output_type": "display_data"
    }
   ],
   "source": [
    "# Plotting the training and validation losses\n",
    "import matplotlib.pyplot as plt\n",
    "%matplotlib inline\n",
    "plt.figure(figsize=(15, 6))\n",
    "epochs = 1+np.arange(10)\n",
    "plt.plot(epochs, train_epoch_loss, label='training')\n",
    "plt.plot(epochs, val_epoch_loss, label='validation')\n",
    "plt.title('Loss vs Epoch')\n",
    "plt.xlabel('Epoch')\n",
    "plt.ylabel('Loss')\n",
    "plt.legend(loc='upper right')"
   ]
  },
  {
   "cell_type": "markdown",
   "metadata": {
    "id": "xM2gvBM11ib-"
   },
   "source": [
    "## Using the model to translate"
   ]
  },
  {
   "cell_type": "code",
   "execution_count": null,
   "metadata": {
    "id": "NSMQhg7rDzfm"
   },
   "outputs": [],
   "source": [
    "import numpy as np\n",
    "import pandas as pd"
   ]
  },
  {
   "cell_type": "code",
   "execution_count": null,
   "metadata": {
    "id": "bGnQtE7L1icA"
   },
   "outputs": [],
   "source": [
    "def translate(english_sentence):\n",
    "\n",
    "  # Creating Embedding Layer\n",
    "  list_of_words = english_sentence.split(' ')\n",
    "  embedded_sentence = embedding_layer(tf.constant(list_of_words))\n",
    "  embedded_sentence = tf.pad(embedded_sentence, [[13-tf.shape(embedded_sentence)[0], 0], [0, 0]])\n",
    "  embedded_sentence = tf.expand_dims(embedded_sentence, axis=0)\n",
    "\n",
    "  # Getting the predicted tokens\n",
    "  hidden_state, cell_state = encoder_model(embedded_sentence)\n",
    "  input_token = 1\n",
    "  count = 0\n",
    "  predicted_tokens = []\n",
    "  while (input_token != 2) and (count < 15):\n",
    "    predicted_tokens.append(input_token)\n",
    "    input_token_batch = np.expand_dims([input_token], axis=0)\n",
    "    probs, hidden_state, cell_state = decoder_model(input_token_batch, hidden_state, cell_state)\n",
    "    input_token = np.argmax(probs[0][0].numpy())\n",
    "    count += 1\n",
    "  \n",
    "  # Returning the translated sentence\n",
    "  german_sentence = tokenizer.sequences_to_texts([predicted_tokens[1:]])\n",
    "  return german_sentence[0]"
   ]
  },
  {
   "cell_type": "code",
   "execution_count": null,
   "metadata": {
    "colab": {
     "base_uri": "https://localhost:8080/",
     "height": 202
    },
    "id": "lkM1JMoqClrK",
    "outputId": "925eadce-a166-4c96-a07f-bc5c0bc157a3"
   },
   "outputs": [
    {
     "data": {
      "text/html": [
       "<div>\n",
       "<style scoped>\n",
       "    .dataframe tbody tr th:only-of-type {\n",
       "        vertical-align: middle;\n",
       "    }\n",
       "\n",
       "    .dataframe tbody tr th {\n",
       "        vertical-align: top;\n",
       "    }\n",
       "\n",
       "    .dataframe thead th {\n",
       "        text-align: right;\n",
       "    }\n",
       "</style>\n",
       "<table border=\"1\" class=\"dataframe\">\n",
       "  <thead>\n",
       "    <tr style=\"text-align: right;\">\n",
       "      <th></th>\n",
       "      <th>English Sentence</th>\n",
       "      <th>German Prediction</th>\n",
       "      <th>German Sentence</th>\n",
       "    </tr>\n",
       "  </thead>\n",
       "  <tbody>\n",
       "    <tr>\n",
       "      <th>0</th>\n",
       "      <td>tom sneezed .</td>\n",
       "      <td>tom gaehnte .</td>\n",
       "      <td>tom nieste .</td>\n",
       "    </tr>\n",
       "    <tr>\n",
       "      <th>1</th>\n",
       "      <td>am i boring you ?</td>\n",
       "      <td>langweile ich dich ?</td>\n",
       "      <td>langweile ich euch ?</td>\n",
       "    </tr>\n",
       "    <tr>\n",
       "      <th>2</th>\n",
       "      <td>it's brand new .</td>\n",
       "      <td>das ist waschtag .</td>\n",
       "      <td>es ist brandneu .</td>\n",
       "    </tr>\n",
       "    <tr>\n",
       "      <th>3</th>\n",
       "      <td>tom is a weirdo .</td>\n",
       "      <td>tom ist ein schraeger typ .</td>\n",
       "      <td>tom ist ein komischer kauz .</td>\n",
       "    </tr>\n",
       "    <tr>\n",
       "      <th>4</th>\n",
       "      <td>tom is neurotic .</td>\n",
       "      <td>tom ist gehorsam .</td>\n",
       "      <td>tom ist neurotisch .</td>\n",
       "    </tr>\n",
       "  </tbody>\n",
       "</table>\n",
       "</div>"
      ],
      "text/plain": [
       "    English Sentence            German Prediction               German Sentence\n",
       "0      tom sneezed .                tom gaehnte .                  tom nieste .\n",
       "1  am i boring you ?         langweile ich dich ?          langweile ich euch ?\n",
       "2   it's brand new .           das ist waschtag .             es ist brandneu .\n",
       "3  tom is a weirdo .  tom ist ein schraeger typ .  tom ist ein komischer kauz .\n",
       "4  tom is neurotic .           tom ist gehorsam .          tom ist neurotisch ."
      ]
     },
     "execution_count": 175,
     "metadata": {
      "tags": []
     },
     "output_type": "execute_result"
    }
   ],
   "source": [
    "# Translating 5 random English sentences\n",
    "inx = np.random.choice(len(english_sentences), 5)\n",
    "sentence_list = []\n",
    "for i in inx:\n",
    "  english_sentence = english_sentences[i]\n",
    "  german_prediction = translate(english_sentence)\n",
    "  german_sentence = german_sentences[i][8:-6]\n",
    "  sentence_list.append([english_sentence, german_prediction, german_sentence])\n",
    "df = pd.DataFrame(sentence_list, columns=['English Sentence', 'German Prediction', 'German Sentence'])\n",
    "df"
   ]
  },
  {
   "cell_type": "code",
   "execution_count": null,
   "metadata": {
    "id": "kLgeDEwJHoo-"
   },
   "outputs": [],
   "source": []
  }
 ],
 "metadata": {
  "accelerator": "GPU",
  "colab": {
   "collapsed_sections": [],
   "name": "Neural Translation Model.ipynb",
   "provenance": []
  },
  "kernelspec": {
   "display_name": "Python 3",
   "language": "python",
   "name": "python3"
  },
  "language_info": {
   "codemirror_mode": {
    "name": "ipython",
    "version": 3
   },
   "file_extension": ".py",
   "mimetype": "text/x-python",
   "name": "python",
   "nbconvert_exporter": "python",
   "pygments_lexer": "ipython3",
   "version": "3.7.3"
  }
 },
 "nbformat": 4,
 "nbformat_minor": 1
}
